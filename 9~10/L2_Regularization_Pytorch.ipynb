{
 "cells": [
  {
   "cell_type": "code",
   "execution_count": 23,
   "id": "a8bb7bf2",
   "metadata": {},
   "outputs": [],
   "source": [
    "import torch\n",
    "import torch.nn as nn\n",
    "import torch.nn.functional as F\n",
    "import torch.optim as optim\n",
    "from torchvision import datasets, transforms"
   ]
  },
  {
   "cell_type": "code",
   "execution_count": 24,
   "id": "49d139bd",
   "metadata": {},
   "outputs": [
    {
     "name": "stdout",
     "output_type": "stream",
     "text": [
      "init model done\n"
     ]
    }
   ],
   "source": [
    "class Net(nn.Module):\n",
    "    def __init__(self):\n",
    "        super(Net, self).__init__()\n",
    "        self.fc1 = nn.Linear(784, 512)\n",
    "        self.fc2 = nn.Linear(512, 256)\n",
    "        self.fc3 = nn.Linear(256, 128)\n",
    "        self.fc4 = nn.Linear(128, 64)\n",
    "        self.fc5 = nn.Linear(64, 32)\n",
    "        self.fc6 = nn.Linear(32, 10)\n",
    "\n",
    "    def forward(self, x):\n",
    "        x = x.float()\n",
    "        h1 = F.relu(self.fc1(x.view(-1, 784)))\n",
    "        h2 = F.relu(self.fc2(h1))\n",
    "        h3 = F.relu(self.fc3(h2))\n",
    "        h4 = F.relu(self.fc4(h3))\n",
    "        h5 = F.relu(self.fc5(h4))\n",
    "        h6 = self.fc6(h5)\n",
    "        return F.log_softmax(h6, dim=1)\n",
    "\n",
    "print(\"init model done\")"
   ]
  },
  {
   "cell_type": "code",
   "execution_count": 25,
   "id": "4f954ea6",
   "metadata": {},
   "outputs": [
    {
     "name": "stdout",
     "output_type": "stream",
     "text": [
      "set vars and device done\n"
     ]
    }
   ],
   "source": [
    "batch_size = 64\n",
    "test_batch_size = 1000\n",
    "epochs = 10\n",
    "lr = 0.01\n",
    "momentum = 0.5\n",
    "no_cuda = True\n",
    "seed = 1\n",
    "log_interval = 200\n",
    "\n",
    "use_cuda = not no_cuda and torch.cuda.is_available()\n",
    "torch.manual_seed(seed)\n",
    "device = torch.device(\"cuda\" if use_cuda else \"cpu\")\n",
    "kwargs = {'num_workers': 1, 'pin_memory': True} if use_cuda else {}\n",
    "print(\"set vars and device done\")"
   ]
  },
  {
   "cell_type": "code",
   "execution_count": 26,
   "id": "ea158296",
   "metadata": {},
   "outputs": [],
   "source": [
    "transform = transforms.Compose([\n",
    "                 transforms.ToTensor(),\n",
    "                 transforms.Normalize((0.1307,), (0.3081,))])\n",
    "\n",
    "train_loader = torch.utils.data.DataLoader(\n",
    "  datasets.MNIST('../data', train=True, download=True, \n",
    "                 transform=transform), \n",
    "    batch_size = batch_size, shuffle=True, **kwargs)\n",
    "\n",
    "test_loader = torch.utils.data.DataLoader(\n",
    "        datasets.MNIST('../data', train=False, download=True,\n",
    "                 transform=transform), \n",
    "    batch_size=test_batch_size, shuffle=True, **kwargs)"
   ]
  },
  {
   "cell_type": "code",
   "execution_count": 27,
   "id": "54423d59",
   "metadata": {},
   "outputs": [],
   "source": [
    "model = Net().to(device)\n",
    "optimizer = optim.Adam(model.parameters(), lr=lr, weight_decay = 0.01 )\n",
    "#L2 Regularization"
   ]
  },
  {
   "cell_type": "code",
   "execution_count": 28,
   "id": "946d1f13",
   "metadata": {},
   "outputs": [],
   "source": [
    "def train(log_interval, model, device, train_loader, optimizer, epoch):\n",
    "    model.train()\n",
    "    for batch_idx, (data, target) in enumerate(train_loader):\n",
    "        data, target = data.to(device), target.to(device)\n",
    "        optimizer.zero_grad()\n",
    "        output = model(data)\n",
    "        loss = F.nll_loss(output, target)\n",
    "        loss.backward()\n",
    "        optimizer.step()\n",
    "        if batch_idx % log_interval == 0:\n",
    "            print('Train Epoch: {} [{}/{} ({:.0f}%)]\\tLoss: {:.6f}'.format(\n",
    "                epoch, batch_idx * len(data), len(train_loader.dataset),\n",
    "                100. * batch_idx / len(train_loader), loss.item()))\n",
    "\n",
    "def test(log_interval, model, device, test_loader):\n",
    "    model.eval()\n",
    "    test_loss = 0\n",
    "    correct = 0\n",
    "    with torch.no_grad():\n",
    "        for data, target in test_loader:\n",
    "            data, target = data.to(device), target.to(device)\n",
    "            output = model(data)\n",
    "            test_loss += F.nll_loss(output, target, reduction='sum').item() \n",
    "            pred = output.argmax(dim=1, keepdim=True)\n",
    "            correct += pred.eq(target.view_as(pred)).sum().item()\n",
    "\n",
    "    test_loss /= len(test_loader.dataset)\n",
    "\n",
    "    print('\\nTest set: Average loss: {:.4f}, Accuracy: {}/{} ({:.0f}%)\\n'.format\n",
    "          (test_loss, correct, len(test_loader.dataset),\n",
    "        100. * correct / len(test_loader.dataset)))"
   ]
  },
  {
   "cell_type": "code",
   "execution_count": 29,
   "id": "fa823837",
   "metadata": {},
   "outputs": [
    {
     "name": "stdout",
     "output_type": "stream",
     "text": [
      "Train Epoch: 1 [0/60000 (0%)]\tLoss: 2.290312\n",
      "Train Epoch: 1 [12800/60000 (21%)]\tLoss: 0.970073\n",
      "Train Epoch: 1 [25600/60000 (43%)]\tLoss: 0.409932\n",
      "Train Epoch: 1 [38400/60000 (64%)]\tLoss: 0.489804\n",
      "Train Epoch: 1 [51200/60000 (85%)]\tLoss: 0.253488\n",
      "\n",
      "Test set: Average loss: 0.3911, Accuracy: 8779/10000 (88%)\n",
      "\n",
      "Train Epoch: 2 [0/60000 (0%)]\tLoss: 0.407881\n",
      "Train Epoch: 2 [12800/60000 (21%)]\tLoss: 0.258478\n",
      "Train Epoch: 2 [25600/60000 (43%)]\tLoss: 0.370356\n",
      "Train Epoch: 2 [38400/60000 (64%)]\tLoss: 0.241571\n",
      "Train Epoch: 2 [51200/60000 (85%)]\tLoss: 0.609459\n",
      "\n",
      "Test set: Average loss: 0.6661, Accuracy: 7924/10000 (79%)\n",
      "\n",
      "Train Epoch: 3 [0/60000 (0%)]\tLoss: 0.949840\n",
      "Train Epoch: 3 [12800/60000 (21%)]\tLoss: 0.218495\n",
      "Train Epoch: 3 [25600/60000 (43%)]\tLoss: 0.469401\n",
      "Train Epoch: 3 [38400/60000 (64%)]\tLoss: 0.191604\n",
      "Train Epoch: 3 [51200/60000 (85%)]\tLoss: 0.357672\n",
      "\n",
      "Test set: Average loss: 0.3096, Accuracy: 9080/10000 (91%)\n",
      "\n",
      "Train Epoch: 4 [0/60000 (0%)]\tLoss: 0.236626\n",
      "Train Epoch: 4 [12800/60000 (21%)]\tLoss: 0.248830\n",
      "Train Epoch: 4 [25600/60000 (43%)]\tLoss: 0.258461\n",
      "Train Epoch: 4 [38400/60000 (64%)]\tLoss: 0.284350\n",
      "Train Epoch: 4 [51200/60000 (85%)]\tLoss: 0.381793\n",
      "\n",
      "Test set: Average loss: 0.3011, Accuracy: 9104/10000 (91%)\n",
      "\n",
      "Train Epoch: 5 [0/60000 (0%)]\tLoss: 0.204296\n",
      "Train Epoch: 5 [12800/60000 (21%)]\tLoss: 0.252070\n",
      "Train Epoch: 5 [25600/60000 (43%)]\tLoss: 0.246128\n",
      "Train Epoch: 5 [38400/60000 (64%)]\tLoss: 0.335086\n",
      "Train Epoch: 5 [51200/60000 (85%)]\tLoss: 0.138166\n",
      "\n",
      "Test set: Average loss: 0.5144, Accuracy: 8356/10000 (84%)\n",
      "\n",
      "Train Epoch: 6 [0/60000 (0%)]\tLoss: 0.614193\n",
      "Train Epoch: 6 [12800/60000 (21%)]\tLoss: 0.529504\n",
      "Train Epoch: 6 [25600/60000 (43%)]\tLoss: 0.341824\n",
      "Train Epoch: 6 [38400/60000 (64%)]\tLoss: 0.363886\n",
      "Train Epoch: 6 [51200/60000 (85%)]\tLoss: 0.434060\n",
      "\n",
      "Test set: Average loss: 0.3042, Accuracy: 9143/10000 (91%)\n",
      "\n",
      "Train Epoch: 7 [0/60000 (0%)]\tLoss: 0.147123\n",
      "Train Epoch: 7 [12800/60000 (21%)]\tLoss: 0.325839\n",
      "Train Epoch: 7 [25600/60000 (43%)]\tLoss: 0.278432\n",
      "Train Epoch: 7 [38400/60000 (64%)]\tLoss: 0.604867\n",
      "Train Epoch: 7 [51200/60000 (85%)]\tLoss: 0.343463\n",
      "\n",
      "Test set: Average loss: 0.4383, Accuracy: 8693/10000 (87%)\n",
      "\n",
      "Train Epoch: 8 [0/60000 (0%)]\tLoss: 0.417467\n",
      "Train Epoch: 8 [12800/60000 (21%)]\tLoss: 0.128932\n",
      "Train Epoch: 8 [25600/60000 (43%)]\tLoss: 0.305626\n",
      "Train Epoch: 8 [38400/60000 (64%)]\tLoss: 0.490989\n",
      "Train Epoch: 8 [51200/60000 (85%)]\tLoss: 0.361508\n",
      "\n",
      "Test set: Average loss: 0.3385, Accuracy: 8984/10000 (90%)\n",
      "\n",
      "Train Epoch: 9 [0/60000 (0%)]\tLoss: 0.252795\n",
      "Train Epoch: 9 [12800/60000 (21%)]\tLoss: 0.463354\n",
      "Train Epoch: 9 [25600/60000 (43%)]\tLoss: 0.173740\n",
      "Train Epoch: 9 [38400/60000 (64%)]\tLoss: 0.447156\n",
      "Train Epoch: 9 [51200/60000 (85%)]\tLoss: 0.313756\n",
      "\n",
      "Test set: Average loss: 0.3099, Accuracy: 9034/10000 (90%)\n",
      "\n",
      "Train Epoch: 10 [0/60000 (0%)]\tLoss: 0.437464\n",
      "Train Epoch: 10 [12800/60000 (21%)]\tLoss: 0.536268\n",
      "Train Epoch: 10 [25600/60000 (43%)]\tLoss: 0.249917\n",
      "Train Epoch: 10 [38400/60000 (64%)]\tLoss: 0.315165\n",
      "Train Epoch: 10 [51200/60000 (85%)]\tLoss: 0.246416\n",
      "\n",
      "Test set: Average loss: 0.3306, Accuracy: 9033/10000 (90%)\n",
      "\n"
     ]
    }
   ],
   "source": [
    "for epoch in range(1, 11):\n",
    "    train(log_interval, model, device, train_loader, optimizer, epoch)\n",
    "    test(log_interval, model, device, test_loader)\n",
    "torch.save(model, './model.pt')"
   ]
  },
  {
   "cell_type": "code",
   "execution_count": null,
   "id": "fd53cd79",
   "metadata": {},
   "outputs": [],
   "source": []
  }
 ],
 "metadata": {
  "kernelspec": {
   "display_name": "Python 3 (ipykernel)",
   "language": "python",
   "name": "python3"
  },
  "language_info": {
   "codemirror_mode": {
    "name": "ipython",
    "version": 3
   },
   "file_extension": ".py",
   "mimetype": "text/x-python",
   "name": "python",
   "nbconvert_exporter": "python",
   "pygments_lexer": "ipython3",
   "version": "3.9.7"
  }
 },
 "nbformat": 4,
 "nbformat_minor": 5
}
