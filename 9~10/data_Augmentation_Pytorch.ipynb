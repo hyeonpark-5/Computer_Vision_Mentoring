{
 "cells": [
  {
   "cell_type": "code",
   "execution_count": 5,
   "id": "9b53c98d",
   "metadata": {},
   "outputs": [],
   "source": [
    "import torch\n",
    "import torch.nn as nn\n",
    "import torch.nn.functional as F\n",
    "import torch.optim as optim\n",
    "from torchvision import datasets, transforms"
   ]
  },
  {
   "cell_type": "code",
   "execution_count": 6,
   "id": "be5ad144",
   "metadata": {},
   "outputs": [
    {
     "name": "stdout",
     "output_type": "stream",
     "text": [
      "init model done\n"
     ]
    }
   ],
   "source": [
    "class Net(nn.Module):\n",
    "    def __init__(self):\n",
    "        super(Net, self).__init__()\n",
    "        self.fc1 = nn.Linear(784, 512)\n",
    "        self.fc2 = nn.Linear(512, 256)\n",
    "        self.fc3 = nn.Linear(256, 128)\n",
    "        self.fc4 = nn.Linear(128, 64)\n",
    "        self.fc5 = nn.Linear(64, 32)\n",
    "        self.fc6 = nn.Linear(32, 10)\n",
    "\n",
    "    def forward(self, x):\n",
    "        x = x.float()\n",
    "        h1 = F.relu(self.fc1(x.view(-1, 784)))\n",
    "        h2 = F.relu(self.fc2(h1))\n",
    "        h3 = F.relu(self.fc3(h2))\n",
    "        h4 = F.relu(self.fc4(h3))\n",
    "        h5 = F.relu(self.fc5(h4))\n",
    "        h6 = self.fc6(h5)\n",
    "        return F.log_softmax(h6, dim=1)\n",
    "\n",
    "print(\"init model done\")"
   ]
  },
  {
   "cell_type": "code",
   "execution_count": 7,
   "id": "5bd62a9c",
   "metadata": {},
   "outputs": [
    {
     "name": "stdout",
     "output_type": "stream",
     "text": [
      "set vars and device done\n"
     ]
    }
   ],
   "source": [
    "batch_size = 64\n",
    "test_batch_size = 1000\n",
    "epochs = 10\n",
    "lr = 0.01\n",
    "momentum = 0.5\n",
    "no_cuda = True\n",
    "seed = 1\n",
    "log_interval = 200\n",
    "\n",
    "use_cuda = not no_cuda and torch.cuda.is_available()\n",
    "torch.manual_seed(seed)\n",
    "device = torch.device(\"cuda\" if use_cuda else \"cpu\")\n",
    "kwargs = {'num_workers': 1, 'pin_memory': True} if use_cuda else {}\n",
    "print(\"set vars and device done\")"
   ]
  },
  {
   "cell_type": "code",
   "execution_count": 8,
   "id": "be579e50",
   "metadata": {},
   "outputs": [],
   "source": [
    "transform = transforms.Compose([\n",
    "                 transforms.Resize(34), # 34 *34\n",
    "                 transforms.CenterCrop(28), # 중앙 24*24\n",
    "                 transforms.RandomHorizontalFlip(), #랜덤 좌우반전\n",
    "                 transforms.Lambda(lambda x: x.rotate(90)), #람다로 90도 회전\n",
    "                 transforms.ToTensor(),\n",
    "                ])\n",
    "\n",
    "train_loader = torch.utils.data.DataLoader(\n",
    "  datasets.MNIST('../data', train=True, download=True, \n",
    "                 transform=transform), \n",
    "    batch_size = batch_size, shuffle=True, **kwargs)\n",
    "\n",
    "test_loader = torch.utils.data.DataLoader(\n",
    "        datasets.MNIST('../data', train=False, download=True,\n",
    "                 transform=transform), \n",
    "    batch_size=test_batch_size, shuffle=True, **kwargs)"
   ]
  },
  {
   "cell_type": "code",
   "execution_count": 9,
   "id": "fdf1d874",
   "metadata": {},
   "outputs": [],
   "source": [
    "model = Net().to(device)\n",
    "optimizer = optim.SGD(model.parameters(), lr=lr, momentum=momentum)"
   ]
  },
  {
   "cell_type": "code",
   "execution_count": 10,
   "id": "cc7009fa",
   "metadata": {},
   "outputs": [],
   "source": [
    "def train(log_interval, model, device, train_loader, optimizer, epoch):\n",
    "    model.train()\n",
    "    for batch_idx, (data, target) in enumerate(train_loader):\n",
    "        data, target = data.to(device), target.to(device)\n",
    "        optimizer.zero_grad()\n",
    "        output = model(data)\n",
    "        loss = F.nll_loss(output, target)\n",
    "        loss.backward()\n",
    "        optimizer.step()\n",
    "        if batch_idx % log_interval == 0:\n",
    "            print('Train Epoch: {} [{}/{} ({:.0f}%)]\\tLoss: {:.6f}'.format(\n",
    "                epoch, batch_idx * len(data), len(train_loader.dataset),\n",
    "                100. * batch_idx / len(train_loader), loss.item()))\n",
    "\n",
    "def test(log_interval, model, device, test_loader):\n",
    "    model.eval()\n",
    "    test_loss = 0\n",
    "    correct = 0\n",
    "    with torch.no_grad():\n",
    "        for data, target in test_loader:\n",
    "            data, target = data.to(device), target.to(device)\n",
    "            output = model(data)\n",
    "            test_loss += F.nll_loss(output, target, reduction='sum').item() \n",
    "            pred = output.argmax(dim=1, keepdim=True)\n",
    "            correct += pred.eq(target.view_as(pred)).sum().item()\n",
    "\n",
    "    test_loss /= len(test_loader.dataset)\n",
    "\n",
    "    print('\\nTest set: Average loss: {:.4f}, Accuracy: {}/{} ({:.0f}%)\\n'.format\n",
    "          (test_loss, correct, len(test_loader.dataset),\n",
    "        100. * correct / len(test_loader.dataset)))"
   ]
  },
  {
   "cell_type": "code",
   "execution_count": 11,
   "id": "4008a1c1",
   "metadata": {},
   "outputs": [
    {
     "name": "stdout",
     "output_type": "stream",
     "text": [
      "Train Epoch: 1 [0/60000 (0%)]\tLoss: 2.289120\n",
      "Train Epoch: 1 [12800/60000 (21%)]\tLoss: 2.304755\n",
      "Train Epoch: 1 [25600/60000 (43%)]\tLoss: 2.302240\n",
      "Train Epoch: 1 [38400/60000 (64%)]\tLoss: 2.294470\n",
      "Train Epoch: 1 [51200/60000 (85%)]\tLoss: 2.287177\n",
      "\n",
      "Test set: Average loss: 2.2855, Accuracy: 1830/10000 (18%)\n",
      "\n",
      "Train Epoch: 2 [0/60000 (0%)]\tLoss: 2.287299\n",
      "Train Epoch: 2 [12800/60000 (21%)]\tLoss: 2.244897\n",
      "Train Epoch: 2 [25600/60000 (43%)]\tLoss: 2.050038\n",
      "Train Epoch: 2 [38400/60000 (64%)]\tLoss: 1.845223\n",
      "Train Epoch: 2 [51200/60000 (85%)]\tLoss: 1.171198\n",
      "\n",
      "Test set: Average loss: 1.0936, Accuracy: 6248/10000 (62%)\n",
      "\n",
      "Train Epoch: 3 [0/60000 (0%)]\tLoss: 0.975188\n",
      "Train Epoch: 3 [12800/60000 (21%)]\tLoss: 0.929922\n",
      "Train Epoch: 3 [25600/60000 (43%)]\tLoss: 0.752579\n",
      "Train Epoch: 3 [38400/60000 (64%)]\tLoss: 0.491084\n",
      "Train Epoch: 3 [51200/60000 (85%)]\tLoss: 0.782246\n",
      "\n",
      "Test set: Average loss: 0.6222, Accuracy: 7988/10000 (80%)\n",
      "\n",
      "Train Epoch: 4 [0/60000 (0%)]\tLoss: 0.668937\n",
      "Train Epoch: 4 [12800/60000 (21%)]\tLoss: 0.567845\n",
      "Train Epoch: 4 [25600/60000 (43%)]\tLoss: 0.318761\n",
      "Train Epoch: 4 [38400/60000 (64%)]\tLoss: 0.588348\n",
      "Train Epoch: 4 [51200/60000 (85%)]\tLoss: 0.461863\n",
      "\n",
      "Test set: Average loss: 0.4105, Accuracy: 8770/10000 (88%)\n",
      "\n",
      "Train Epoch: 5 [0/60000 (0%)]\tLoss: 0.580753\n",
      "Train Epoch: 5 [12800/60000 (21%)]\tLoss: 0.302563\n",
      "Train Epoch: 5 [25600/60000 (43%)]\tLoss: 0.349226\n",
      "Train Epoch: 5 [38400/60000 (64%)]\tLoss: 0.259072\n",
      "Train Epoch: 5 [51200/60000 (85%)]\tLoss: 0.149405\n",
      "\n",
      "Test set: Average loss: 0.3184, Accuracy: 9065/10000 (91%)\n",
      "\n",
      "Train Epoch: 6 [0/60000 (0%)]\tLoss: 0.570816\n",
      "Train Epoch: 6 [12800/60000 (21%)]\tLoss: 0.217617\n",
      "Train Epoch: 6 [25600/60000 (43%)]\tLoss: 0.313590\n",
      "Train Epoch: 6 [38400/60000 (64%)]\tLoss: 0.305048\n",
      "Train Epoch: 6 [51200/60000 (85%)]\tLoss: 0.216042\n",
      "\n",
      "Test set: Average loss: 0.2440, Accuracy: 9304/10000 (93%)\n",
      "\n",
      "Train Epoch: 7 [0/60000 (0%)]\tLoss: 0.166153\n",
      "Train Epoch: 7 [12800/60000 (21%)]\tLoss: 0.269936\n",
      "Train Epoch: 7 [25600/60000 (43%)]\tLoss: 0.260359\n",
      "Train Epoch: 7 [38400/60000 (64%)]\tLoss: 0.179313\n",
      "Train Epoch: 7 [51200/60000 (85%)]\tLoss: 0.231644\n",
      "\n",
      "Test set: Average loss: 0.2266, Accuracy: 9307/10000 (93%)\n",
      "\n",
      "Train Epoch: 8 [0/60000 (0%)]\tLoss: 0.152184\n",
      "Train Epoch: 8 [12800/60000 (21%)]\tLoss: 0.130312\n",
      "Train Epoch: 8 [25600/60000 (43%)]\tLoss: 0.110302\n",
      "Train Epoch: 8 [38400/60000 (64%)]\tLoss: 0.184287\n",
      "Train Epoch: 8 [51200/60000 (85%)]\tLoss: 0.194641\n",
      "\n",
      "Test set: Average loss: 0.2002, Accuracy: 9391/10000 (94%)\n",
      "\n",
      "Train Epoch: 9 [0/60000 (0%)]\tLoss: 0.209604\n",
      "Train Epoch: 9 [12800/60000 (21%)]\tLoss: 0.304329\n",
      "Train Epoch: 9 [25600/60000 (43%)]\tLoss: 0.121721\n",
      "Train Epoch: 9 [38400/60000 (64%)]\tLoss: 0.281298\n",
      "Train Epoch: 9 [51200/60000 (85%)]\tLoss: 0.089836\n",
      "\n",
      "Test set: Average loss: 0.2151, Accuracy: 9339/10000 (93%)\n",
      "\n",
      "Train Epoch: 10 [0/60000 (0%)]\tLoss: 0.066933\n",
      "Train Epoch: 10 [12800/60000 (21%)]\tLoss: 0.085273\n",
      "Train Epoch: 10 [25600/60000 (43%)]\tLoss: 0.082473\n",
      "Train Epoch: 10 [38400/60000 (64%)]\tLoss: 0.127722\n",
      "Train Epoch: 10 [51200/60000 (85%)]\tLoss: 0.206466\n",
      "\n",
      "Test set: Average loss: 0.1733, Accuracy: 9492/10000 (95%)\n",
      "\n"
     ]
    }
   ],
   "source": [
    "for epoch in range(1, 11):\n",
    "    train(log_interval, model, device, train_loader, optimizer, epoch)\n",
    "    test(log_interval, model, device, test_loader)\n",
    "torch.save(model, './model.pt')"
   ]
  },
  {
   "cell_type": "code",
   "execution_count": null,
   "id": "60732f44",
   "metadata": {},
   "outputs": [],
   "source": []
  }
 ],
 "metadata": {
  "kernelspec": {
   "display_name": "Python 3 (ipykernel)",
   "language": "python",
   "name": "python3"
  },
  "language_info": {
   "codemirror_mode": {
    "name": "ipython",
    "version": 3
   },
   "file_extension": ".py",
   "mimetype": "text/x-python",
   "name": "python",
   "nbconvert_exporter": "python",
   "pygments_lexer": "ipython3",
   "version": "3.9.7"
  }
 },
 "nbformat": 4,
 "nbformat_minor": 5
}
