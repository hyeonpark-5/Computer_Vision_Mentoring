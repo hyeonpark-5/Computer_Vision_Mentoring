{
 "cells": [
  {
   "cell_type": "code",
   "execution_count": 1,
   "id": "19e9a710",
   "metadata": {},
   "outputs": [],
   "source": [
    "import torch\n",
    "import torch.nn as nn\n",
    "import torch.nn.functional as F\n",
    "import torch.optim as optim\n",
    "from torchvision import datasets, transforms"
   ]
  },
  {
   "cell_type": "code",
   "execution_count": 2,
   "id": "0308aad2",
   "metadata": {},
   "outputs": [
    {
     "name": "stdout",
     "output_type": "stream",
     "text": [
      "init model done\n"
     ]
    }
   ],
   "source": [
    "class Net(nn.Module):\n",
    "    def __init__(self):\n",
    "        super(Net, self).__init__()\n",
    "        self.fc1 = nn.Linear(784, 512)\n",
    "        self.fc2 = nn.Linear(512, 256)\n",
    "        self.fc3 = nn.Linear(256, 128)\n",
    "        self.fc4 = nn.Linear(128, 64)\n",
    "        self.fc5 = nn.Linear(64, 32)\n",
    "        self.fc6 = nn.Linear(32, 10)\n",
    "\n",
    "    def forward(self, x):\n",
    "        x = x.float()\n",
    "        h1 = F.relu(self.fc1(x.view(-1, 784)))\n",
    "        h2 = F.relu(self.fc2(h1))\n",
    "        h3 = F.relu(self.fc3(h2))\n",
    "        h4 = F.relu(self.fc4(h3))\n",
    "        h5 = F.relu(self.fc5(h4))\n",
    "        h6 = self.fc6(h5)\n",
    "        return F.log_softmax(h6, dim=1)\n",
    "\n",
    "print(\"init model done\")"
   ]
  },
  {
   "cell_type": "code",
   "execution_count": 3,
   "id": "81293665",
   "metadata": {},
   "outputs": [
    {
     "name": "stdout",
     "output_type": "stream",
     "text": [
      "set vars and device done\n"
     ]
    }
   ],
   "source": [
    "batch_size = 64\n",
    "test_batch_size = 1000\n",
    "epochs = 10\n",
    "lr = 0.01\n",
    "momentum = 0.5\n",
    "no_cuda = True\n",
    "seed = 1\n",
    "log_interval = 200\n",
    "\n",
    "use_cuda = not no_cuda and torch.cuda.is_available()\n",
    "torch.manual_seed(seed)\n",
    "device = torch.device(\"cuda\" if use_cuda else \"cpu\")\n",
    "kwargs = {'num_workers': 1, 'pin_memory': True} if use_cuda else {}\n",
    "print(\"set vars and device done\")"
   ]
  },
  {
   "cell_type": "code",
   "execution_count": 4,
   "id": "a2cb76ea",
   "metadata": {},
   "outputs": [],
   "source": [
    "transform = transforms.Compose([\n",
    "                 transforms.ToTensor(),\n",
    "                 transforms.Normalize((0.1307,), (0.3081,))])\n",
    "\n",
    "train_loader = torch.utils.data.DataLoader(\n",
    "  datasets.MNIST('../data', train=True, download=True, \n",
    "                 transform=transform), \n",
    "    batch_size = batch_size, shuffle=True, **kwargs)\n",
    "\n",
    "test_loader = torch.utils.data.DataLoader(\n",
    "        datasets.MNIST('../data', train=False, download=True,\n",
    "                 transform=transform), \n",
    "    batch_size=test_batch_size, shuffle=True, **kwargs)"
   ]
  },
  {
   "cell_type": "code",
   "execution_count": 5,
   "id": "c3d0bec9",
   "metadata": {},
   "outputs": [],
   "source": [
    "model = Net().to(device)\n",
    "optimizer = optim.Adam(model.parameters(), lr=lr)\n",
    "#Adam"
   ]
  },
  {
   "cell_type": "code",
   "execution_count": 6,
   "id": "46249ce6",
   "metadata": {},
   "outputs": [],
   "source": [
    "def train(log_interval, model, device, train_loader, optimizer, epoch):\n",
    "    model.train()\n",
    "    for batch_idx, (data, target) in enumerate(train_loader):\n",
    "        data, target = data.to(device), target.to(device)\n",
    "        optimizer.zero_grad()\n",
    "        output = model(data)\n",
    "        loss = F.nll_loss(output, target)\n",
    "        loss.backward()\n",
    "        optimizer.step()\n",
    "        if batch_idx % log_interval == 0:\n",
    "            print('Train Epoch: {} [{}/{} ({:.0f}%)]\\tLoss: {:.6f}'.format(\n",
    "                epoch, batch_idx * len(data), len(train_loader.dataset),\n",
    "                100. * batch_idx / len(train_loader), loss.item()))\n",
    "\n",
    "def test(log_interval, model, device, test_loader):\n",
    "    model.eval()\n",
    "    test_loss = 0\n",
    "    correct = 0\n",
    "    with torch.no_grad():\n",
    "        for data, target in test_loader:\n",
    "            data, target = data.to(device), target.to(device)\n",
    "            output = model(data)\n",
    "            test_loss += F.nll_loss(output, target, reduction='sum').item() \n",
    "            pred = output.argmax(dim=1, keepdim=True)\n",
    "            correct += pred.eq(target.view_as(pred)).sum().item()\n",
    "\n",
    "    test_loss /= len(test_loader.dataset)\n",
    "\n",
    "    print('\\nTest set: Average loss: {:.4f}, Accuracy: {}/{} ({:.0f}%)\\n'.format\n",
    "          (test_loss, correct, len(test_loader.dataset),\n",
    "        100. * correct / len(test_loader.dataset)))"
   ]
  },
  {
   "cell_type": "code",
   "execution_count": null,
   "id": "3dc80ba8",
   "metadata": {},
   "outputs": [
    {
     "name": "stdout",
     "output_type": "stream",
     "text": [
      "Train Epoch: 1 [0/60000 (0%)]\tLoss: 2.290312\n",
      "Train Epoch: 1 [12800/60000 (21%)]\tLoss: 0.337712\n",
      "Train Epoch: 1 [25600/60000 (43%)]\tLoss: 0.204134\n",
      "Train Epoch: 1 [38400/60000 (64%)]\tLoss: 0.272417\n",
      "Train Epoch: 1 [51200/60000 (85%)]\tLoss: 0.306092\n",
      "\n",
      "Test set: Average loss: 0.3031, Accuracy: 9268/10000 (93%)\n",
      "\n",
      "Train Epoch: 2 [0/60000 (0%)]\tLoss: 0.457162\n",
      "Train Epoch: 2 [12800/60000 (21%)]\tLoss: 0.142253\n",
      "Train Epoch: 2 [25600/60000 (43%)]\tLoss: 0.124412\n",
      "Train Epoch: 2 [38400/60000 (64%)]\tLoss: 0.161430\n",
      "Train Epoch: 2 [51200/60000 (85%)]\tLoss: 0.263162\n",
      "\n",
      "Test set: Average loss: 0.3309, Accuracy: 9376/10000 (94%)\n",
      "\n",
      "Train Epoch: 3 [0/60000 (0%)]\tLoss: 0.440253\n",
      "Train Epoch: 3 [12800/60000 (21%)]\tLoss: 0.074039\n",
      "Train Epoch: 3 [25600/60000 (43%)]\tLoss: 0.298839\n",
      "Train Epoch: 3 [38400/60000 (64%)]\tLoss: 0.175998\n",
      "Train Epoch: 3 [51200/60000 (85%)]\tLoss: 0.187205\n",
      "\n",
      "Test set: Average loss: 0.1856, Accuracy: 9611/10000 (96%)\n",
      "\n",
      "Train Epoch: 4 [0/60000 (0%)]\tLoss: 0.139663\n",
      "Train Epoch: 4 [12800/60000 (21%)]\tLoss: 0.185434\n",
      "Train Epoch: 4 [25600/60000 (43%)]\tLoss: 0.093464\n",
      "Train Epoch: 4 [38400/60000 (64%)]\tLoss: 0.174219\n",
      "Train Epoch: 4 [51200/60000 (85%)]\tLoss: 0.144791\n",
      "\n",
      "Test set: Average loss: 0.2307, Accuracy: 9463/10000 (95%)\n",
      "\n",
      "Train Epoch: 5 [0/60000 (0%)]\tLoss: 0.117299\n",
      "Train Epoch: 5 [12800/60000 (21%)]\tLoss: 0.119149\n",
      "Train Epoch: 5 [25600/60000 (43%)]\tLoss: 0.157376\n",
      "Train Epoch: 5 [38400/60000 (64%)]\tLoss: 0.170323\n",
      "Train Epoch: 5 [51200/60000 (85%)]\tLoss: 0.023900\n",
      "\n",
      "Test set: Average loss: 0.1955, Accuracy: 9582/10000 (96%)\n",
      "\n",
      "Train Epoch: 6 [0/60000 (0%)]\tLoss: 0.143035\n",
      "Train Epoch: 6 [12800/60000 (21%)]\tLoss: 0.190677\n",
      "Train Epoch: 6 [25600/60000 (43%)]\tLoss: 0.140042\n",
      "Train Epoch: 6 [38400/60000 (64%)]\tLoss: 0.301450\n",
      "Train Epoch: 6 [51200/60000 (85%)]\tLoss: 0.331011\n",
      "\n",
      "Test set: Average loss: 1.7061, Accuracy: 6503/10000 (65%)\n",
      "\n",
      "Train Epoch: 7 [0/60000 (0%)]\tLoss: 2.020162\n",
      "Train Epoch: 7 [12800/60000 (21%)]\tLoss: 0.334649\n",
      "Train Epoch: 7 [25600/60000 (43%)]\tLoss: 0.459992\n",
      "Train Epoch: 7 [38400/60000 (64%)]\tLoss: 0.502153\n",
      "Train Epoch: 7 [51200/60000 (85%)]\tLoss: 0.544686\n",
      "\n",
      "Test set: Average loss: 0.5327, Accuracy: 8717/10000 (87%)\n",
      "\n",
      "Train Epoch: 8 [0/60000 (0%)]\tLoss: 0.446140\n",
      "Train Epoch: 8 [12800/60000 (21%)]\tLoss: 0.132028\n"
     ]
    }
   ],
   "source": [
    "for epoch in range(1, 11):\n",
    "    train(log_interval, model, device, train_loader, optimizer, epoch)\n",
    "    test(log_interval, model, device, test_loader)\n",
    "torch.save(model, './model.pt')"
   ]
  },
  {
   "cell_type": "code",
   "execution_count": null,
   "id": "6a11a9f9",
   "metadata": {},
   "outputs": [],
   "source": []
  }
 ],
 "metadata": {
  "kernelspec": {
   "display_name": "Python 3 (ipykernel)",
   "language": "python",
   "name": "python3"
  },
  "language_info": {
   "codemirror_mode": {
    "name": "ipython",
    "version": 3
   },
   "file_extension": ".py",
   "mimetype": "text/x-python",
   "name": "python",
   "nbconvert_exporter": "python",
   "pygments_lexer": "ipython3",
   "version": "3.9.7"
  }
 },
 "nbformat": 4,
 "nbformat_minor": 5
}
