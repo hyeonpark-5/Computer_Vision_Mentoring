{
 "cells": [
  {
   "cell_type": "code",
   "execution_count": 10,
   "id": "e3526be2",
   "metadata": {
    "scrolled": true
   },
   "outputs": [],
   "source": [
    "import torch\n",
    "import torch.nn as nn\n",
    "import torch.nn.functional as F\n",
    "import torch.optim as optim\n",
    "from torchvision import datasets, transforms\n",
    "import time\n"
   ]
  },
  {
   "cell_type": "code",
   "execution_count": 11,
   "id": "b7d68de2",
   "metadata": {},
   "outputs": [
    {
     "name": "stdout",
     "output_type": "stream",
     "text": [
      "init model done\n"
     ]
    }
   ],
   "source": [
    "class Net(nn.Module):\n",
    "    def __init__(self):\n",
    "        super(Net, self).__init__()\n",
    "        self.fc1 = nn.Linear(784, 512)\n",
    "        self.fc2 = nn.Linear(512, 256)\n",
    "        self.fc3 = nn.Linear(256, 128)\n",
    "        self.fc4 = nn.Linear(128, 64)\n",
    "        self.fc5 = nn.Linear(64, 32)\n",
    "        self.fc6 = nn.Linear(32, 10)\n",
    "\n",
    "    def forward(self, x):\n",
    "        x = x.float()\n",
    "        h1 = F.relu(self.fc1(x.view(-1, 784)))\n",
    "        h2 = F.relu(self.fc2(h1))\n",
    "        h3 = F.relu(self.fc3(h2))\n",
    "        h4 = F.relu(self.fc4(h3))\n",
    "        h5 = F.relu(self.fc5(h4))\n",
    "        h6 = self.fc6(h5)\n",
    "        return F.log_softmax(h6, dim=1)\n",
    "\n",
    "print(\"init model done\")"
   ]
  },
  {
   "cell_type": "code",
   "execution_count": 12,
   "id": "2a1f67b1",
   "metadata": {},
   "outputs": [
    {
     "name": "stdout",
     "output_type": "stream",
     "text": [
      "set vars and device done\n"
     ]
    }
   ],
   "source": [
    "batch_size = 64\n",
    "test_batch_size = 1000\n",
    "epochs = 10\n",
    "lr = 0.01\n",
    "momentum = 0.5\n",
    "no_cuda = True\n",
    "seed = 1\n",
    "log_interval = 200\n",
    "\n",
    "use_cuda = not no_cuda and torch.cuda.is_available()\n",
    "torch.manual_seed(seed)\n",
    "device = torch.device(\"cuda\" if use_cuda else \"cpu\")\n",
    "kwargs = {'num_workers': 1, 'pin_memory': True} if use_cuda else {}\n",
    "print(\"set vars and device done\")"
   ]
  },
  {
   "cell_type": "code",
   "execution_count": 13,
   "id": "2172c5a2",
   "metadata": {},
   "outputs": [],
   "source": [
    "transform = transforms.Compose([\n",
    "                 transforms.ToTensor(),\n",
    "                 transforms.Normalize((0.1307,), (0.3081,))])\n",
    "\n",
    "train_loader = torch.utils.data.DataLoader(\n",
    "  datasets.MNIST('../data', train=True, download=True, \n",
    "                 transform=transform), \n",
    "    batch_size = batch_size, shuffle=True, **kwargs)\n",
    "\n",
    "test_loader = torch.utils.data.DataLoader(\n",
    "        datasets.MNIST('../data', train=False, download=True,\n",
    "                 transform=transform), \n",
    "    batch_size=test_batch_size, shuffle=True, **kwargs)"
   ]
  },
  {
   "cell_type": "code",
   "execution_count": 14,
   "id": "ebe11053",
   "metadata": {},
   "outputs": [],
   "source": [
    "model = Net().to(device)\n",
    "optimizer = optim.SGD(model.parameters(), lr=lr, momentum=momentum)"
   ]
  },
  {
   "cell_type": "code",
   "execution_count": 15,
   "id": "6b535ee0",
   "metadata": {},
   "outputs": [],
   "source": [
    "def train(log_interval, model, device, train_loader, optimizer, epoch):\n",
    "    model.train()\n",
    "    for batch_idx, (data, target) in enumerate(train_loader):\n",
    "        data, target = data.to(device), target.to(device)\n",
    "        optimizer.zero_grad()\n",
    "        output = model(data)\n",
    "        loss = F.nll_loss(output, target)\n",
    "        loss.backward()\n",
    "        optimizer.step()\n",
    "        if batch_idx % log_interval == 0:\n",
    "            print('Train Epoch: {} [{}/{} ({:.0f}%)]\\tLoss: {:.6f}'.format(\n",
    "                epoch, batch_idx * len(data), len(train_loader.dataset),\n",
    "                100. * batch_idx / len(train_loader), loss.item()))\n",
    "\n",
    "def test(log_interval, model, device, test_loader):\n",
    "    model.eval()\n",
    "    test_loss = 0\n",
    "    correct = 0\n",
    "    with torch.no_grad():\n",
    "        for data, target in test_loader:\n",
    "            data, target = data.to(device), target.to(device)\n",
    "            output = model(data)\n",
    "            test_loss += F.nll_loss(output, target, reduction='sum').item() \n",
    "            pred = output.argmax(dim=1, keepdim=True)\n",
    "            correct += pred.eq(target.view_as(pred)).sum().item()\n",
    "\n",
    "    test_loss /= len(test_loader.dataset)\n",
    "\n",
    "    print('\\nTest set: Average loss: {:.4f}, Accuracy: {}/{} ({:.0f}%)\\n'.format\n",
    "          (test_loss, correct, len(test_loader.dataset),\n",
    "        100. * correct / len(test_loader.dataset)))\n",
    "   "
   ]
  },
  {
   "cell_type": "code",
   "execution_count": 16,
   "id": "9d630897",
   "metadata": {},
   "outputs": [
    {
     "name": "stdout",
     "output_type": "stream",
     "text": [
      "Train Epoch: 1 [0/60000 (0%)]\tLoss: 2.290312\n",
      "Train Epoch: 1 [12800/60000 (21%)]\tLoss: 2.296319\n",
      "Train Epoch: 1 [25600/60000 (43%)]\tLoss: 2.270590\n",
      "Train Epoch: 1 [38400/60000 (64%)]\tLoss: 2.144866\n",
      "Train Epoch: 1 [51200/60000 (85%)]\tLoss: 1.136027\n",
      "\n",
      "Test set: Average loss: 0.7309, Accuracy: 7531/10000 (75%)\n",
      "\n",
      "\n",
      "34.12816858291626sec\n",
      "Train Epoch: 2 [0/60000 (0%)]\tLoss: 0.835290\n",
      "Train Epoch: 2 [12800/60000 (21%)]\tLoss: 0.456106\n",
      "Train Epoch: 2 [25600/60000 (43%)]\tLoss: 0.357800\n",
      "Train Epoch: 2 [38400/60000 (64%)]\tLoss: 0.221276\n",
      "Train Epoch: 2 [51200/60000 (85%)]\tLoss: 0.498738\n",
      "\n",
      "Test set: Average loss: 0.3329, Accuracy: 8989/10000 (90%)\n",
      "\n",
      "\n",
      "33.33692121505737sec\n",
      "Train Epoch: 3 [0/60000 (0%)]\tLoss: 0.701623\n",
      "Train Epoch: 3 [12800/60000 (21%)]\tLoss: 0.093913\n",
      "Train Epoch: 3 [25600/60000 (43%)]\tLoss: 0.263713\n",
      "Train Epoch: 3 [38400/60000 (64%)]\tLoss: 0.203213\n",
      "Train Epoch: 3 [51200/60000 (85%)]\tLoss: 0.201027\n",
      "\n",
      "Test set: Average loss: 0.1755, Accuracy: 9496/10000 (95%)\n",
      "\n",
      "\n",
      "33.59221386909485sec\n",
      "Train Epoch: 4 [0/60000 (0%)]\tLoss: 0.155945\n",
      "Train Epoch: 4 [12800/60000 (21%)]\tLoss: 0.117652\n",
      "Train Epoch: 4 [25600/60000 (43%)]\tLoss: 0.115006\n",
      "Train Epoch: 4 [38400/60000 (64%)]\tLoss: 0.043520\n",
      "Train Epoch: 4 [51200/60000 (85%)]\tLoss: 0.242748\n",
      "\n",
      "Test set: Average loss: 0.1335, Accuracy: 9589/10000 (96%)\n",
      "\n",
      "\n",
      "33.81190490722656sec\n",
      "Train Epoch: 5 [0/60000 (0%)]\tLoss: 0.051614\n",
      "Train Epoch: 5 [12800/60000 (21%)]\tLoss: 0.036251\n",
      "Train Epoch: 5 [25600/60000 (43%)]\tLoss: 0.055049\n",
      "Train Epoch: 5 [38400/60000 (64%)]\tLoss: 0.142940\n",
      "Train Epoch: 5 [51200/60000 (85%)]\tLoss: 0.025031\n",
      "\n",
      "Test set: Average loss: 0.1139, Accuracy: 9640/10000 (96%)\n",
      "\n",
      "\n",
      "33.191585302352905sec\n",
      "Train Epoch: 6 [0/60000 (0%)]\tLoss: 0.026568\n",
      "Train Epoch: 6 [12800/60000 (21%)]\tLoss: 0.116227\n",
      "Train Epoch: 6 [25600/60000 (43%)]\tLoss: 0.056546\n",
      "Train Epoch: 6 [38400/60000 (64%)]\tLoss: 0.041219\n",
      "Train Epoch: 6 [51200/60000 (85%)]\tLoss: 0.064326\n",
      "\n",
      "Test set: Average loss: 0.0989, Accuracy: 9702/10000 (97%)\n",
      "\n",
      "\n",
      "33.91287684440613sec\n",
      "Train Epoch: 7 [0/60000 (0%)]\tLoss: 0.035209\n",
      "Train Epoch: 7 [12800/60000 (21%)]\tLoss: 0.034419\n",
      "Train Epoch: 7 [25600/60000 (43%)]\tLoss: 0.023534\n",
      "Train Epoch: 7 [38400/60000 (64%)]\tLoss: 0.161967\n",
      "Train Epoch: 7 [51200/60000 (85%)]\tLoss: 0.066158\n",
      "\n",
      "Test set: Average loss: 0.0933, Accuracy: 9727/10000 (97%)\n",
      "\n",
      "\n",
      "32.88830256462097sec\n",
      "Train Epoch: 8 [0/60000 (0%)]\tLoss: 0.047505\n",
      "Train Epoch: 8 [12800/60000 (21%)]\tLoss: 0.004839\n",
      "Train Epoch: 8 [25600/60000 (43%)]\tLoss: 0.018357\n",
      "Train Epoch: 8 [38400/60000 (64%)]\tLoss: 0.044923\n",
      "Train Epoch: 8 [51200/60000 (85%)]\tLoss: 0.037585\n",
      "\n",
      "Test set: Average loss: 0.0920, Accuracy: 9739/10000 (97%)\n",
      "\n",
      "\n",
      "33.874170780181885sec\n",
      "Train Epoch: 9 [0/60000 (0%)]\tLoss: 0.017293\n",
      "Train Epoch: 9 [12800/60000 (21%)]\tLoss: 0.041097\n",
      "Train Epoch: 9 [25600/60000 (43%)]\tLoss: 0.038762\n",
      "Train Epoch: 9 [38400/60000 (64%)]\tLoss: 0.009748\n",
      "Train Epoch: 9 [51200/60000 (85%)]\tLoss: 0.066653\n",
      "\n",
      "Test set: Average loss: 0.0930, Accuracy: 9750/10000 (98%)\n",
      "\n",
      "\n",
      "34.96669101715088sec\n",
      "Train Epoch: 10 [0/60000 (0%)]\tLoss: 0.021126\n",
      "Train Epoch: 10 [12800/60000 (21%)]\tLoss: 0.052331\n",
      "Train Epoch: 10 [25600/60000 (43%)]\tLoss: 0.014998\n",
      "Train Epoch: 10 [38400/60000 (64%)]\tLoss: 0.057128\n",
      "Train Epoch: 10 [51200/60000 (85%)]\tLoss: 0.006246\n",
      "\n",
      "Test set: Average loss: 0.1041, Accuracy: 9709/10000 (97%)\n",
      "\n",
      "\n",
      "33.89739513397217sec\n"
     ]
    }
   ],
   "source": [
    "for epoch in range(1, 11):\n",
    "    start = time.time()\n",
    "    train(log_interval, model, device, train_loader, optimizer, epoch)\n",
    "    test(log_interval, model, device, test_loader)\n",
    "    print(f\"\\n{time.time() - start}sec\")\n",
    "torch.save(model, './model.pt')"
   ]
  },
  {
   "cell_type": "code",
   "execution_count": 8,
   "id": "64bef209",
   "metadata": {},
   "outputs": [],
   "source": [
    "#출처:https://xangmin.tistory.com/129"
   ]
  },
  {
   "cell_type": "code",
   "execution_count": null,
   "id": "49942aa7",
   "metadata": {},
   "outputs": [],
   "source": []
  }
 ],
 "metadata": {
  "kernelspec": {
   "display_name": "Python 3 (ipykernel)",
   "language": "python",
   "name": "python3"
  },
  "language_info": {
   "codemirror_mode": {
    "name": "ipython",
    "version": 3
   },
   "file_extension": ".py",
   "mimetype": "text/x-python",
   "name": "python",
   "nbconvert_exporter": "python",
   "pygments_lexer": "ipython3",
   "version": "3.9.7"
  }
 },
 "nbformat": 4,
 "nbformat_minor": 5
}
